{
  "cells": [
    {
      "cell_type": "markdown",
      "metadata": {
        "id": "view-in-github",
        "colab_type": "text"
      },
      "source": [
        "<a href=\"https://colab.research.google.com/github/Arvinzaheri/news-classification/blob/main/Untitled1.ipynb\" target=\"_parent\"><img src=\"https://colab.research.google.com/assets/colab-badge.svg\" alt=\"Open In Colab\"/></a>"
      ]
    },
    {
      "cell_type": "code",
      "execution_count": 1,
      "metadata": {
        "id": "fu3pFpT9r_Vo"
      },
      "outputs": [],
      "source": [
        "import numpy as np"
      ]
    },
    {
      "cell_type": "code",
      "execution_count": 2,
      "metadata": {
        "id": "oi4MFHxVlDwZ"
      },
      "outputs": [],
      "source": [
        "import zipfile\n",
        "\n",
        "# Specify the zip file name\n",
        "zip_file_name = \"/content/drive/MyDrive/Colab Notebooks/data.zip\"\n",
        "\n",
        "# Create a ZipFile object\n",
        "with zipfile.ZipFile(zip_file_name, 'r') as zip_ref:\n",
        "    # Extract all the contents of zip file in current directory\n",
        "    zip_ref.extractall()\n"
      ]
    },
    {
      "cell_type": "code",
      "execution_count": 2,
      "metadata": {
        "id": "q8pgi57pqoxd"
      },
      "outputs": [],
      "source": [
        "import pandas as pd\n",
        "train = pd.read_csv('train.csv')\n",
        "test = pd.read_csv('test.csv')"
      ]
    },
    {
      "cell_type": "code",
      "execution_count": 3,
      "metadata": {
        "colab": {
          "base_uri": "https://localhost:8080/",
          "height": 206
        },
        "id": "FGWcPJkZrCbZ",
        "outputId": "ddb1e2eb-b2e6-4c7c-c678-7102091c0f03"
      },
      "outputs": [
        {
          "output_type": "execute_result",
          "data": {
            "text/plain": [
              "                                               title     subgroup  \\\n",
              "0  پلیس: جرائم خشن و مسلحانه در تهران کاهش یافته است        عمومی   \n",
              "1  وزیر بهداشت:\\r\\nآغاز اجرای طرح جامع \"دارویار\"/...  اخبار سلامت   \n",
              "2  وزارت بهداشت: قیمت دارو برای مصرف کننده ثابت م...      اجتماعی   \n",
              "3  معاون رئیسی: مردم به زودی شاهد اثرات مثبت اقدا...        سیاسی   \n",
              "4   دستگیری سارق ۲۰ هزار دلاری ارز دیجیتال در گلستان      اجتماعی   \n",
              "\n",
              "                                            abstract  \\\n",
              "0  آمارهای پلیس نشان می‌دهد که جرائم خشن و مسلحان...   \n",
              "1  هدف اصلی وزارت بهداشت از این طرح این است که پو...   \n",
              "2                                                NaN   \n",
              "3  معاون امور مجلس رئیس جمهور: استان گیلان دارای ...   \n",
              "4  شهروندان توصیه‌های پلیس فتا را جدی بگیرند و در...   \n",
              "\n",
              "                                                body  \n",
              "0  رئیس پلیس آگاهی تهران بزرگ اعلام کرد که موضوع ...  \n",
              "1  وزیر بهداشت جزییات طرح \"دارویار\" که اجرای آن آ...  \n",
              "2  سخنگوی وزارت بهداشت، درمان و آموزش پزشکی در تو...  \n",
              "3  معاون رئیس جمهور گفت: دولت برنامه های راهبردی ...  \n",
              "4  رییس پلیس فتا فرماندهی انتظامی گلستان گفت: سار...  "
            ],
            "text/html": [
              "\n",
              "  <div id=\"df-f42029ca-9526-4531-b876-73a27ec67d5a\" class=\"colab-df-container\">\n",
              "    <div>\n",
              "<style scoped>\n",
              "    .dataframe tbody tr th:only-of-type {\n",
              "        vertical-align: middle;\n",
              "    }\n",
              "\n",
              "    .dataframe tbody tr th {\n",
              "        vertical-align: top;\n",
              "    }\n",
              "\n",
              "    .dataframe thead th {\n",
              "        text-align: right;\n",
              "    }\n",
              "</style>\n",
              "<table border=\"1\" class=\"dataframe\">\n",
              "  <thead>\n",
              "    <tr style=\"text-align: right;\">\n",
              "      <th></th>\n",
              "      <th>title</th>\n",
              "      <th>subgroup</th>\n",
              "      <th>abstract</th>\n",
              "      <th>body</th>\n",
              "    </tr>\n",
              "  </thead>\n",
              "  <tbody>\n",
              "    <tr>\n",
              "      <th>0</th>\n",
              "      <td>پلیس: جرائم خشن و مسلحانه در تهران کاهش یافته است</td>\n",
              "      <td>عمومی</td>\n",
              "      <td>آمارهای پلیس نشان می‌دهد که جرائم خشن و مسلحان...</td>\n",
              "      <td>رئیس پلیس آگاهی تهران بزرگ اعلام کرد که موضوع ...</td>\n",
              "    </tr>\n",
              "    <tr>\n",
              "      <th>1</th>\n",
              "      <td>وزیر بهداشت:\\r\\nآغاز اجرای طرح جامع \"دارویار\"/...</td>\n",
              "      <td>اخبار سلامت</td>\n",
              "      <td>هدف اصلی وزارت بهداشت از این طرح این است که پو...</td>\n",
              "      <td>وزیر بهداشت جزییات طرح \"دارویار\" که اجرای آن آ...</td>\n",
              "    </tr>\n",
              "    <tr>\n",
              "      <th>2</th>\n",
              "      <td>وزارت بهداشت: قیمت دارو برای مصرف کننده ثابت م...</td>\n",
              "      <td>اجتماعی</td>\n",
              "      <td>NaN</td>\n",
              "      <td>سخنگوی وزارت بهداشت، درمان و آموزش پزشکی در تو...</td>\n",
              "    </tr>\n",
              "    <tr>\n",
              "      <th>3</th>\n",
              "      <td>معاون رئیسی: مردم به زودی شاهد اثرات مثبت اقدا...</td>\n",
              "      <td>سیاسی</td>\n",
              "      <td>معاون امور مجلس رئیس جمهور: استان گیلان دارای ...</td>\n",
              "      <td>معاون رئیس جمهور گفت: دولت برنامه های راهبردی ...</td>\n",
              "    </tr>\n",
              "    <tr>\n",
              "      <th>4</th>\n",
              "      <td>دستگیری سارق ۲۰ هزار دلاری ارز دیجیتال در گلستان</td>\n",
              "      <td>اجتماعی</td>\n",
              "      <td>شهروندان توصیه‌های پلیس فتا را جدی بگیرند و در...</td>\n",
              "      <td>رییس پلیس فتا فرماندهی انتظامی گلستان گفت: سار...</td>\n",
              "    </tr>\n",
              "  </tbody>\n",
              "</table>\n",
              "</div>\n",
              "    <div class=\"colab-df-buttons\">\n",
              "\n",
              "  <div class=\"colab-df-container\">\n",
              "    <button class=\"colab-df-convert\" onclick=\"convertToInteractive('df-f42029ca-9526-4531-b876-73a27ec67d5a')\"\n",
              "            title=\"Convert this dataframe to an interactive table.\"\n",
              "            style=\"display:none;\">\n",
              "\n",
              "  <svg xmlns=\"http://www.w3.org/2000/svg\" height=\"24px\" viewBox=\"0 -960 960 960\">\n",
              "    <path d=\"M120-120v-720h720v720H120Zm60-500h600v-160H180v160Zm220 220h160v-160H400v160Zm0 220h160v-160H400v160ZM180-400h160v-160H180v160Zm440 0h160v-160H620v160ZM180-180h160v-160H180v160Zm440 0h160v-160H620v160Z\"/>\n",
              "  </svg>\n",
              "    </button>\n",
              "\n",
              "  <style>\n",
              "    .colab-df-container {\n",
              "      display:flex;\n",
              "      gap: 12px;\n",
              "    }\n",
              "\n",
              "    .colab-df-convert {\n",
              "      background-color: #E8F0FE;\n",
              "      border: none;\n",
              "      border-radius: 50%;\n",
              "      cursor: pointer;\n",
              "      display: none;\n",
              "      fill: #1967D2;\n",
              "      height: 32px;\n",
              "      padding: 0 0 0 0;\n",
              "      width: 32px;\n",
              "    }\n",
              "\n",
              "    .colab-df-convert:hover {\n",
              "      background-color: #E2EBFA;\n",
              "      box-shadow: 0px 1px 2px rgba(60, 64, 67, 0.3), 0px 1px 3px 1px rgba(60, 64, 67, 0.15);\n",
              "      fill: #174EA6;\n",
              "    }\n",
              "\n",
              "    .colab-df-buttons div {\n",
              "      margin-bottom: 4px;\n",
              "    }\n",
              "\n",
              "    [theme=dark] .colab-df-convert {\n",
              "      background-color: #3B4455;\n",
              "      fill: #D2E3FC;\n",
              "    }\n",
              "\n",
              "    [theme=dark] .colab-df-convert:hover {\n",
              "      background-color: #434B5C;\n",
              "      box-shadow: 0px 1px 3px 1px rgba(0, 0, 0, 0.15);\n",
              "      filter: drop-shadow(0px 1px 2px rgba(0, 0, 0, 0.3));\n",
              "      fill: #FFFFFF;\n",
              "    }\n",
              "  </style>\n",
              "\n",
              "    <script>\n",
              "      const buttonEl =\n",
              "        document.querySelector('#df-f42029ca-9526-4531-b876-73a27ec67d5a button.colab-df-convert');\n",
              "      buttonEl.style.display =\n",
              "        google.colab.kernel.accessAllowed ? 'block' : 'none';\n",
              "\n",
              "      async function convertToInteractive(key) {\n",
              "        const element = document.querySelector('#df-f42029ca-9526-4531-b876-73a27ec67d5a');\n",
              "        const dataTable =\n",
              "          await google.colab.kernel.invokeFunction('convertToInteractive',\n",
              "                                                    [key], {});\n",
              "        if (!dataTable) return;\n",
              "\n",
              "        const docLinkHtml = 'Like what you see? Visit the ' +\n",
              "          '<a target=\"_blank\" href=https://colab.research.google.com/notebooks/data_table.ipynb>data table notebook</a>'\n",
              "          + ' to learn more about interactive tables.';\n",
              "        element.innerHTML = '';\n",
              "        dataTable['output_type'] = 'display_data';\n",
              "        await google.colab.output.renderOutput(dataTable, element);\n",
              "        const docLink = document.createElement('div');\n",
              "        docLink.innerHTML = docLinkHtml;\n",
              "        element.appendChild(docLink);\n",
              "      }\n",
              "    </script>\n",
              "  </div>\n",
              "\n",
              "\n",
              "<div id=\"df-badf1e72-30da-4cee-9d4f-ad6edd604259\">\n",
              "  <button class=\"colab-df-quickchart\" onclick=\"quickchart('df-badf1e72-30da-4cee-9d4f-ad6edd604259')\"\n",
              "            title=\"Suggest charts\"\n",
              "            style=\"display:none;\">\n",
              "\n",
              "<svg xmlns=\"http://www.w3.org/2000/svg\" height=\"24px\"viewBox=\"0 0 24 24\"\n",
              "     width=\"24px\">\n",
              "    <g>\n",
              "        <path d=\"M19 3H5c-1.1 0-2 .9-2 2v14c0 1.1.9 2 2 2h14c1.1 0 2-.9 2-2V5c0-1.1-.9-2-2-2zM9 17H7v-7h2v7zm4 0h-2V7h2v10zm4 0h-2v-4h2v4z\"/>\n",
              "    </g>\n",
              "</svg>\n",
              "  </button>\n",
              "\n",
              "<style>\n",
              "  .colab-df-quickchart {\n",
              "      --bg-color: #E8F0FE;\n",
              "      --fill-color: #1967D2;\n",
              "      --hover-bg-color: #E2EBFA;\n",
              "      --hover-fill-color: #174EA6;\n",
              "      --disabled-fill-color: #AAA;\n",
              "      --disabled-bg-color: #DDD;\n",
              "  }\n",
              "\n",
              "  [theme=dark] .colab-df-quickchart {\n",
              "      --bg-color: #3B4455;\n",
              "      --fill-color: #D2E3FC;\n",
              "      --hover-bg-color: #434B5C;\n",
              "      --hover-fill-color: #FFFFFF;\n",
              "      --disabled-bg-color: #3B4455;\n",
              "      --disabled-fill-color: #666;\n",
              "  }\n",
              "\n",
              "  .colab-df-quickchart {\n",
              "    background-color: var(--bg-color);\n",
              "    border: none;\n",
              "    border-radius: 50%;\n",
              "    cursor: pointer;\n",
              "    display: none;\n",
              "    fill: var(--fill-color);\n",
              "    height: 32px;\n",
              "    padding: 0;\n",
              "    width: 32px;\n",
              "  }\n",
              "\n",
              "  .colab-df-quickchart:hover {\n",
              "    background-color: var(--hover-bg-color);\n",
              "    box-shadow: 0 1px 2px rgba(60, 64, 67, 0.3), 0 1px 3px 1px rgba(60, 64, 67, 0.15);\n",
              "    fill: var(--button-hover-fill-color);\n",
              "  }\n",
              "\n",
              "  .colab-df-quickchart-complete:disabled,\n",
              "  .colab-df-quickchart-complete:disabled:hover {\n",
              "    background-color: var(--disabled-bg-color);\n",
              "    fill: var(--disabled-fill-color);\n",
              "    box-shadow: none;\n",
              "  }\n",
              "\n",
              "  .colab-df-spinner {\n",
              "    border: 2px solid var(--fill-color);\n",
              "    border-color: transparent;\n",
              "    border-bottom-color: var(--fill-color);\n",
              "    animation:\n",
              "      spin 1s steps(1) infinite;\n",
              "  }\n",
              "\n",
              "  @keyframes spin {\n",
              "    0% {\n",
              "      border-color: transparent;\n",
              "      border-bottom-color: var(--fill-color);\n",
              "      border-left-color: var(--fill-color);\n",
              "    }\n",
              "    20% {\n",
              "      border-color: transparent;\n",
              "      border-left-color: var(--fill-color);\n",
              "      border-top-color: var(--fill-color);\n",
              "    }\n",
              "    30% {\n",
              "      border-color: transparent;\n",
              "      border-left-color: var(--fill-color);\n",
              "      border-top-color: var(--fill-color);\n",
              "      border-right-color: var(--fill-color);\n",
              "    }\n",
              "    40% {\n",
              "      border-color: transparent;\n",
              "      border-right-color: var(--fill-color);\n",
              "      border-top-color: var(--fill-color);\n",
              "    }\n",
              "    60% {\n",
              "      border-color: transparent;\n",
              "      border-right-color: var(--fill-color);\n",
              "    }\n",
              "    80% {\n",
              "      border-color: transparent;\n",
              "      border-right-color: var(--fill-color);\n",
              "      border-bottom-color: var(--fill-color);\n",
              "    }\n",
              "    90% {\n",
              "      border-color: transparent;\n",
              "      border-bottom-color: var(--fill-color);\n",
              "    }\n",
              "  }\n",
              "</style>\n",
              "\n",
              "  <script>\n",
              "    async function quickchart(key) {\n",
              "      const quickchartButtonEl =\n",
              "        document.querySelector('#' + key + ' button');\n",
              "      quickchartButtonEl.disabled = true;  // To prevent multiple clicks.\n",
              "      quickchartButtonEl.classList.add('colab-df-spinner');\n",
              "      try {\n",
              "        const charts = await google.colab.kernel.invokeFunction(\n",
              "            'suggestCharts', [key], {});\n",
              "      } catch (error) {\n",
              "        console.error('Error during call to suggestCharts:', error);\n",
              "      }\n",
              "      quickchartButtonEl.classList.remove('colab-df-spinner');\n",
              "      quickchartButtonEl.classList.add('colab-df-quickchart-complete');\n",
              "    }\n",
              "    (() => {\n",
              "      let quickchartButtonEl =\n",
              "        document.querySelector('#df-badf1e72-30da-4cee-9d4f-ad6edd604259 button');\n",
              "      quickchartButtonEl.style.display =\n",
              "        google.colab.kernel.accessAllowed ? 'block' : 'none';\n",
              "    })();\n",
              "  </script>\n",
              "</div>\n",
              "    </div>\n",
              "  </div>\n"
            ],
            "application/vnd.google.colaboratory.intrinsic+json": {
              "type": "dataframe",
              "variable_name": "train"
            }
          },
          "metadata": {},
          "execution_count": 3
        }
      ],
      "source": [
        "train.head()\n"
      ]
    },
    {
      "cell_type": "code",
      "execution_count": 4,
      "metadata": {
        "colab": {
          "base_uri": "https://localhost:8080/"
        },
        "id": "b7HxSNYMsqkO",
        "outputId": "3e9278b6-11cf-4e3e-ffbf-52523924bdda"
      },
      "outputs": [
        {
          "output_type": "execute_result",
          "data": {
            "text/plain": [
              "(237884, 4)"
            ]
          },
          "metadata": {},
          "execution_count": 4
        }
      ],
      "source": [
        "train.shape"
      ]
    },
    {
      "cell_type": "code",
      "execution_count": 5,
      "metadata": {
        "colab": {
          "base_uri": "https://localhost:8080/"
        },
        "id": "zm87TMv63O9k",
        "outputId": "184e92fd-d15d-437e-a5fd-765a45cfe5b6"
      },
      "outputs": [
        {
          "output_type": "execute_result",
          "data": {
            "text/plain": [
              "23"
            ]
          },
          "metadata": {},
          "execution_count": 5
        }
      ],
      "source": [
        "train[\"subgroup\"].nunique()"
      ]
    },
    {
      "cell_type": "code",
      "execution_count": 6,
      "metadata": {
        "id": "jGBawrglVUBB"
      },
      "outputs": [],
      "source": [
        "train.fillna(\"\", inplace=True)\n",
        "test.fillna(\"\", inplace=True)"
      ]
    },
    {
      "cell_type": "code",
      "execution_count": 7,
      "metadata": {
        "id": "G6PCclfCrkv-"
      },
      "outputs": [],
      "source": [
        "import tensorflow as tf\n",
        "from tensorflow.keras.preprocessing.text import Tokenizer\n",
        "\n",
        "\n",
        "Tokenizer1 = Tokenizer(\n",
        "    num_words=35000,\n",
        "    filters='!\"#$%&()*+,-./:;<=>?@[\\\\]^_`{|}~\\t\\n۰۱۲۳۴۵۶۷۸۹0123456789',\n",
        "    lower=False,\n",
        "    split=' ',\n",
        "    char_level=False,\n",
        "    oov_token=\"<oov>\",\n",
        ")\n",
        "Tokenizer1.fit_on_texts(train['title'] + ' ' + train['abstract'])\n",
        "train_text2 = Tokenizer1.texts_to_sequences(train['title'] + ' ' + train['abstract'])\n",
        "test_text2 = Tokenizer1.texts_to_sequences(test['title'] + ' ' + test['abstract'])\n"
      ]
    },
    {
      "cell_type": "code",
      "source": [
        "Tokenizer2 = Tokenizer(\n",
        "    num_words=10000,\n",
        "    filters='!\"#$%&()*+,-./:;<=>?@[\\\\]^_`{|}~\\t\\n۰۱۲۳۴۵۶۷۸۹0123456789',\n",
        "    lower=False,\n",
        "    split=' ',\n",
        "    char_level=False,\n",
        "    oov_token=\"<oov>\",\n",
        ")\n",
        "Tokenizer2.fit_on_texts(train['title'])\n",
        "train_text = Tokenizer2.texts_to_sequences(train['title'])\n",
        "test_text = Tokenizer2.texts_to_sequences(test['title'])"
      ],
      "metadata": {
        "id": "W-nKu5wL77XH"
      },
      "execution_count": 8,
      "outputs": []
    },
    {
      "cell_type": "code",
      "source": [
        "Tokenizer2."
      ],
      "metadata": {
        "id": "3yE8aUEY_nc8"
      },
      "execution_count": null,
      "outputs": []
    },
    {
      "cell_type": "code",
      "execution_count": 9,
      "metadata": {
        "id": "g9zTQt7Nztkh"
      },
      "outputs": [],
      "source": [
        "from tensorflow.keras.preprocessing.sequence import pad_sequences\n",
        "max_length = 40\n",
        "trunc_type='post'\n",
        "padding_type='post'\n",
        "\n",
        "train_text_paded = pad_sequences(train_text, maxlen=max_length, padding=padding_type, truncating=trunc_type)\n",
        "test_text_paded = pad_sequences(test_text, maxlen=max_length, padding=padding_type, truncating=trunc_type)\n"
      ]
    },
    {
      "cell_type": "code",
      "execution_count": 10,
      "metadata": {
        "id": "u6F0T0rn0rY1"
      },
      "outputs": [],
      "source": [
        "from sklearn.preprocessing import LabelEncoder\n",
        "\n",
        "label_encoder = LabelEncoder()\n",
        "train_labels = label_encoder.fit_transform(train['subgroup'])"
      ]
    },
    {
      "cell_type": "code",
      "execution_count": 11,
      "metadata": {
        "id": "LcqjnJRN4JLr"
      },
      "outputs": [],
      "source": [
        "import tensorflow as tf\n",
        "from tensorflow.keras.preprocessing.text import Tokenizer\n",
        "from tensorflow.keras.preprocessing.sequence import pad_sequences\n",
        "from tensorflow.keras.models import Sequential\n",
        "from tensorflow.keras.layers import Dense, Embedding, LSTM, SpatialDropout1D"
      ]
    },
    {
      "cell_type": "code",
      "execution_count": 33,
      "metadata": {
        "id": "JpZFdutf4jXF"
      },
      "outputs": [],
      "source": [
        "model = Sequential(\n",
        "    [\n",
        "        tf.keras.layers.Embedding(input_dim=10000, output_dim=32, input_length=max_length),\n",
        "        tf.keras.layers.SpatialDropout1D(0.2),\n",
        "        tf.keras.layers.Conv1D(32, 5, activation='relu', padding=\"same\"),\n",
        "        tf.keras.layers.BatchNormalization(),\n",
        "        tf.keras.layers.LSTM(16, return_sequences=True),\n",
        "        tf.keras.layers.BatchNormalization(),\n",
        "        tf.keras.layers.GRU(32),\n",
        "        tf.keras.layers.BatchNormalization(),\n",
        "        tf.keras.layers.Dense(32, activation='relu'),\n",
        "        tf.keras.layers.BatchNormalization(),\n",
        "        tf.keras.layers.Dropout(0.5),\n",
        "        tf.keras.layers.Dense(32, activation='relu'),\n",
        "        tf.keras.layers.BatchNormalization(),\n",
        "        tf.keras.layers.Dropout(0.5),\n",
        "        tf.keras.layers.BatchNormalization(),\n",
        "        tf.keras.layers.Dense(64, activation='relu'),\n",
        "        tf.keras.layers.BatchNormalization(),\n",
        "        tf.keras.layers.Dropout(0.5),\n",
        "        tf.keras.layers.Dense(23, activation='softmax')\n",
        "    ]\n",
        ")"
      ]
    },
    {
      "cell_type": "code",
      "execution_count": 34,
      "metadata": {
        "id": "ci_3Ksv54yMZ"
      },
      "outputs": [],
      "source": [
        "model.compile(\n",
        "    loss='sparse_categorical_crossentropy',\n",
        "    optimizer=tf.keras.optimizers.Adam(learning_rate=0.0005),\n",
        "    metrics=['accuracy']\n",
        ")"
      ]
    },
    {
      "cell_type": "code",
      "execution_count": 25,
      "metadata": {
        "colab": {
          "base_uri": "https://localhost:8080/"
        },
        "id": "1R3H0TQfTu5J",
        "outputId": "71c5c69b-4284-4338-dd7b-117f56eed508"
      },
      "outputs": [
        {
          "output_type": "stream",
          "name": "stdout",
          "text": [
            "Model: \"sequential_3\"\n",
            "_________________________________________________________________\n",
            " Layer (type)                Output Shape              Param #   \n",
            "=================================================================\n",
            " embedding_3 (Embedding)     (None, 120, 50)           5000000   \n",
            "                                                                 \n",
            " spatial_dropout1d_3 (Spati  (None, 120, 50)           0         \n",
            " alDropout1D)                                                    \n",
            "                                                                 \n",
            " conv1d_3 (Conv1D)           (None, 116, 32)           8032      \n",
            "                                                                 \n",
            " batch_normalization_19 (Ba  (None, 116, 32)           128       \n",
            " tchNormalization)                                               \n",
            "                                                                 \n",
            " lstm_3 (LSTM)               (None, 116, 16)           3136      \n",
            "                                                                 \n",
            " batch_normalization_20 (Ba  (None, 116, 16)           64        \n",
            " tchNormalization)                                               \n",
            "                                                                 \n",
            " gru_3 (GRU)                 (None, 16)                1632      \n",
            "                                                                 \n",
            " batch_normalization_21 (Ba  (None, 16)                64        \n",
            " tchNormalization)                                               \n",
            "                                                                 \n",
            " dense_13 (Dense)            (None, 32)                544       \n",
            "                                                                 \n",
            " batch_normalization_22 (Ba  (None, 32)                128       \n",
            " tchNormalization)                                               \n",
            "                                                                 \n",
            " dropout_10 (Dropout)        (None, 32)                0         \n",
            "                                                                 \n",
            " dense_14 (Dense)            (None, 32)                1056      \n",
            "                                                                 \n",
            " batch_normalization_23 (Ba  (None, 32)                128       \n",
            " tchNormalization)                                               \n",
            "                                                                 \n",
            " dropout_11 (Dropout)        (None, 32)                0         \n",
            "                                                                 \n",
            " dense_15 (Dense)            (None, 32)                1056      \n",
            "                                                                 \n",
            " batch_normalization_24 (Ba  (None, 32)                128       \n",
            " tchNormalization)                                               \n",
            "                                                                 \n",
            " dropout_12 (Dropout)        (None, 32)                0         \n",
            "                                                                 \n",
            " dense_16 (Dense)            (None, 23)                759       \n",
            "                                                                 \n",
            "=================================================================\n",
            "Total params: 5016855 (19.14 MB)\n",
            "Trainable params: 5016535 (19.14 MB)\n",
            "Non-trainable params: 320 (1.25 KB)\n",
            "_________________________________________________________________\n"
          ]
        }
      ],
      "source": [
        "model.summary()"
      ]
    },
    {
      "cell_type": "code",
      "execution_count": 35,
      "metadata": {
        "colab": {
          "base_uri": "https://localhost:8080/"
        },
        "id": "NZG7FNwz4_jl",
        "outputId": "ecd61bbb-5cad-4df8-eefd-e9257060cbdb"
      },
      "outputs": [
        {
          "output_type": "stream",
          "name": "stdout",
          "text": [
            "Epoch 1/20\n",
            "883/883 [==============================] - 45s 37ms/step - loss: 2.8481 - accuracy: 0.2137 - val_loss: 2.2515 - val_accuracy: 0.2467\n",
            "Epoch 2/20\n",
            "883/883 [==============================] - 17s 20ms/step - loss: 2.2132 - accuracy: 0.3113 - val_loss: 2.2241 - val_accuracy: 0.2467\n",
            "Epoch 3/20\n",
            "883/883 [==============================] - 17s 19ms/step - loss: 2.1717 - accuracy: 0.3159 - val_loss: 2.2219 - val_accuracy: 0.2467\n",
            "Epoch 4/20\n",
            "883/883 [==============================] - 17s 19ms/step - loss: 2.0937 - accuracy: 0.3418 - val_loss: 1.9106 - val_accuracy: 0.3697\n",
            "Epoch 5/20\n",
            "883/883 [==============================] - 17s 19ms/step - loss: 1.8034 - accuracy: 0.4427 - val_loss: 1.7900 - val_accuracy: 0.4683\n",
            "Epoch 6/20\n",
            "883/883 [==============================] - 17s 19ms/step - loss: 1.5503 - accuracy: 0.5342 - val_loss: 1.5572 - val_accuracy: 0.5034\n",
            "Epoch 7/20\n",
            "883/883 [==============================] - 17s 19ms/step - loss: 1.4125 - accuracy: 0.5649 - val_loss: 1.4128 - val_accuracy: 0.5482\n",
            "Epoch 8/20\n",
            "883/883 [==============================] - 16s 18ms/step - loss: 1.3208 - accuracy: 0.5974 - val_loss: 1.3059 - val_accuracy: 0.6188\n",
            "Epoch 9/20\n",
            "883/883 [==============================] - 16s 18ms/step - loss: 1.2314 - accuracy: 0.6362 - val_loss: 1.2448 - val_accuracy: 0.6367\n",
            "Epoch 10/20\n",
            "883/883 [==============================] - 22s 25ms/step - loss: 1.1679 - accuracy: 0.6564 - val_loss: 1.2464 - val_accuracy: 0.6255\n",
            "Epoch 11/20\n",
            "883/883 [==============================] - 15s 17ms/step - loss: 1.1191 - accuracy: 0.6729 - val_loss: 1.2186 - val_accuracy: 0.6435\n",
            "Epoch 12/20\n",
            "883/883 [==============================] - 16s 18ms/step - loss: 1.0816 - accuracy: 0.6850 - val_loss: 1.2184 - val_accuracy: 0.6577\n",
            "Epoch 13/20\n",
            "883/883 [==============================] - 17s 19ms/step - loss: 1.0541 - accuracy: 0.6938 - val_loss: 1.2011 - val_accuracy: 0.6618\n",
            "Epoch 14/20\n",
            "883/883 [==============================] - 17s 20ms/step - loss: 1.0314 - accuracy: 0.7003 - val_loss: 1.2179 - val_accuracy: 0.6572\n",
            "Epoch 15/20\n",
            "883/883 [==============================] - 17s 19ms/step - loss: 1.0090 - accuracy: 0.7065 - val_loss: 1.2033 - val_accuracy: 0.6656\n",
            "Epoch 16/20\n",
            "883/883 [==============================] - 17s 19ms/step - loss: 0.9936 - accuracy: 0.7120 - val_loss: 1.2117 - val_accuracy: 0.6648\n",
            "Epoch 17/20\n",
            "883/883 [==============================] - 20s 22ms/step - loss: 0.9771 - accuracy: 0.7168 - val_loss: 1.2801 - val_accuracy: 0.6673\n",
            "Epoch 18/20\n",
            "883/883 [==============================] - 16s 18ms/step - loss: 0.9619 - accuracy: 0.7220 - val_loss: 1.2800 - val_accuracy: 0.6576\n",
            "Epoch 19/20\n",
            "883/883 [==============================] - 16s 18ms/step - loss: 0.9489 - accuracy: 0.7272 - val_loss: 1.2062 - val_accuracy: 0.6522\n",
            "Epoch 20/20\n",
            "883/883 [==============================] - 18s 20ms/step - loss: 0.9392 - accuracy: 0.7293 - val_loss: 1.2586 - val_accuracy: 0.6698\n"
          ]
        },
        {
          "output_type": "execute_result",
          "data": {
            "text/plain": [
              "<keras.src.callbacks.History at 0x7ad22a1f92d0>"
            ]
          },
          "metadata": {},
          "execution_count": 35
        }
      ],
      "source": [
        "model.fit(\n",
        "  train_text_paded,\n",
        "  train_labels,\n",
        "  epochs=20,\n",
        "  validation_split=0.05,\n",
        "  batch_size=256,\n",
        "  verbose=1\n",
        ")"
      ]
    },
    {
      "cell_type": "markdown",
      "metadata": {
        "id": "cYJlI_FcZk2s"
      },
      "source": []
    },
    {
      "cell_type": "code",
      "source": [
        "y_pred = model.predict(test_text_paded)"
      ],
      "metadata": {
        "colab": {
          "base_uri": "https://localhost:8080/"
        },
        "id": "Zsi_FdeTOpvx",
        "outputId": "0258ef65-2e69-4d18-9c8a-d7a722e09f83"
      },
      "execution_count": 37,
      "outputs": [
        {
          "output_type": "stream",
          "name": "stdout",
          "text": [
            "3186/3186 [==============================] - 17s 5ms/step\n"
          ]
        }
      ]
    },
    {
      "cell_type": "code",
      "source": [
        "subgroup = label_encoder.inverse_transform(np.argmax(y_pred, axis=1))"
      ],
      "metadata": {
        "id": "tooXdC0cPyHl"
      },
      "execution_count": 40,
      "outputs": []
    },
    {
      "cell_type": "code",
      "source": [
        "output = pd.DataFrame()\n",
        "output[\"subgroup\"] = subgroup\n",
        "\n",
        "output.to_csv('output.csv', index=False)"
      ],
      "metadata": {
        "id": "WAWE7UhLPQX2"
      },
      "execution_count": 41,
      "outputs": []
    }
  ],
  "metadata": {
    "accelerator": "GPU",
    "colab": {
      "gpuType": "T4",
      "provenance": [],
      "mount_file_id": "13ye8AQEvRslUrHIDLpMyFwfe0UAanrJe",
      "authorship_tag": "ABX9TyOotKuCKwdOhCPtdICHkT/i",
      "include_colab_link": true
    },
    "kernelspec": {
      "display_name": "Python 3",
      "name": "python3"
    },
    "language_info": {
      "name": "python"
    }
  },
  "nbformat": 4,
  "nbformat_minor": 0
}